{
 "cells": [
  {
   "cell_type": "code",
   "execution_count": 107,
   "id": "f75809b8",
   "metadata": {},
   "outputs": [],
   "source": [
    "import pandas as pd\n",
    "import numpy as np\n",
    "import matplotlib.pyplot as plt\n",
    "import seaborn as sns"
   ]
  },
  {
   "cell_type": "code",
   "execution_count": 102,
   "id": "19979a71",
   "metadata": {},
   "outputs": [],
   "source": [
    "def percentage_common_elements(list1, list2):\n",
    "    # Convert lists to sets and find the intersection\n",
    "    common_elements = set(list1).intersection(set(list2))\n",
    "    \n",
    "    # Get the number of common elements\n",
    "    num_common_elements = len(common_elements)\n",
    "    \n",
    "    # Calculate the percentage based on the size of the shorter list\n",
    "    shortest_list_length = min(len(list1), len(list2))\n",
    "    \n",
    "    # Avoid division by zero\n",
    "    if shortest_list_length == 0:\n",
    "        return 0\n",
    "    \n",
    "    percentage = (num_common_elements / shortest_list_length) * 100\n",
    "#     print(\"{:.2f}% common among {} elements (in the shorter list)\".format(percentage, shortest_list_length))\n",
    "    return percentage"
   ]
  },
  {
   "cell_type": "markdown",
   "id": "a0bd0c87",
   "metadata": {},
   "source": [
    "## 1. ERAWIJANTARI-GASTRIC-CANCER-2020"
   ]
  },
  {
   "cell_type": "code",
   "execution_count": 72,
   "id": "02637eab",
   "metadata": {},
   "outputs": [],
   "source": [
    "eraw_genera = pd.read_csv('ERAWIJANTARI-GASTRIC-CANCER-2020/genera.tsv', delimiter = '\\t')\n",
    "eraw_metabol = pd.read_csv('ERAWIJANTARI-GASTRIC-CANCER-2020/mtb.tsv', delimiter = '\\t')"
   ]
  },
  {
   "cell_type": "markdown",
   "id": "b9ce9ca4",
   "metadata": {},
   "source": [
    "## 2. YACHIDA-CRC-2019"
   ]
  },
  {
   "cell_type": "code",
   "execution_count": 73,
   "id": "42e07fe8",
   "metadata": {},
   "outputs": [],
   "source": [
    "yachida_genera = pd.read_csv('YACHIDA-CRC-2019/genera.tsv', delimiter= '\\t')\n",
    "yachida_metabol = pd.read_csv('YACHIDA-CRC-2019/mtb.tsv', delimiter= '\\t')"
   ]
  },
  {
   "cell_type": "markdown",
   "id": "f2d6cd36",
   "metadata": {},
   "source": [
    "## 3. FRANZOSA_IBD_2019"
   ]
  },
  {
   "cell_type": "code",
   "execution_count": 74,
   "id": "0c766271",
   "metadata": {},
   "outputs": [],
   "source": [
    "franzosa_genera = pd.read_csv('FRANZOSA_IBD_2019/genera.tsv', delimiter= '\\t')\n",
    "franzosa_metabol = pd.read_csv('FRANZOSA_IBD_2019/mtb.tsv', delimiter= '\\t')"
   ]
  },
  {
   "cell_type": "markdown",
   "id": "f0b95845",
   "metadata": {},
   "source": [
    "## 4. HE_INFANTS_MFGM_2019"
   ]
  },
  {
   "cell_type": "code",
   "execution_count": 75,
   "id": "8c917af6",
   "metadata": {},
   "outputs": [],
   "source": [
    "he_genera = pd.read_csv('HE_INFANTS_MFGM_2019/genera.tsv', delimiter= '\\t')\n",
    "he_metabol = pd.read_csv('HE_INFANTS_MFGM_2019/mtb.tsv', delimiter= '\\t')"
   ]
  },
  {
   "cell_type": "markdown",
   "id": "12dbe97f",
   "metadata": {},
   "source": [
    "## 5. JACOBS_IBD_FAMILIES_2016"
   ]
  },
  {
   "cell_type": "code",
   "execution_count": 76,
   "id": "65287aab",
   "metadata": {},
   "outputs": [],
   "source": [
    "jacob_genera = pd.read_csv('JACOBS_IBD_FAMILIES_2016/genera.tsv', delimiter= '\\t')\n",
    "jacob_metabol = pd.read_csv('JACOBS_IBD_FAMILIES_2016/mtb.tsv', delimiter= '\\t')"
   ]
  },
  {
   "cell_type": "markdown",
   "id": "88d6f0ab",
   "metadata": {},
   "source": [
    "## 6. KANG_AUTISM_2017"
   ]
  },
  {
   "cell_type": "code",
   "execution_count": 77,
   "id": "531b24df",
   "metadata": {},
   "outputs": [],
   "source": [
    "kang_genera = pd.read_csv('KANG_AUTISM_2017/genera.tsv', delimiter= '\\t')\n",
    "kang_metabol = pd.read_csv('KANG_AUTISM_2017/mtb.tsv', delimiter= '\\t')"
   ]
  },
  {
   "cell_type": "markdown",
   "id": "ada980a6",
   "metadata": {},
   "source": [
    "## 7. KIM_ADENOMAS_2020"
   ]
  },
  {
   "cell_type": "code",
   "execution_count": 78,
   "id": "8cdbd33d",
   "metadata": {},
   "outputs": [],
   "source": [
    "kim_genera = pd.read_csv('KIM_ADENOMAS_2020/genera.tsv', delimiter= '\\t')\n",
    "kim_metabol = pd.read_csv('KIM_ADENOMAS_2020/mtb.tsv', delimiter= '\\t')"
   ]
  },
  {
   "cell_type": "markdown",
   "id": "7551861f",
   "metadata": {},
   "source": [
    "## 8. KOSTIC_INFANTS_DIABETES_2015"
   ]
  },
  {
   "cell_type": "code",
   "execution_count": 79,
   "id": "faacdc7b",
   "metadata": {},
   "outputs": [],
   "source": [
    "kostic_genera = pd.read_csv('KOSTIC_INFANTS_DIABETES_2015/genera.tsv', delimiter= '\\t')\n",
    "kostic_metabol = pd.read_csv('KOSTIC_INFANTS_DIABETES_2015/mtb.tsv', delimiter= '\\t')"
   ]
  },
  {
   "cell_type": "markdown",
   "id": "f5837744",
   "metadata": {},
   "source": [
    "## 9. MARS_IBS_2020"
   ]
  },
  {
   "cell_type": "code",
   "execution_count": 80,
   "id": "17594d3d",
   "metadata": {},
   "outputs": [],
   "source": [
    "mars_genera = pd.read_csv('MARS_IBS_2020/genera.tsv', delimiter= '\\t')\n",
    "mars_metabol = pd.read_csv('MARS_IBS_2020/mtb.tsv', delimiter= '\\t')"
   ]
  },
  {
   "cell_type": "markdown",
   "id": "bcd1ba46",
   "metadata": {},
   "source": [
    "## 10. POYET_BIO_ML_2019"
   ]
  },
  {
   "cell_type": "code",
   "execution_count": 81,
   "id": "07dd7693",
   "metadata": {},
   "outputs": [],
   "source": [
    "poyet_genera = pd.read_csv('POYET_BIO_ML_2019/genera.tsv', delimiter= '\\t')\n",
    "poyet_metabol = pd.read_csv('POYET_BIO_ML_2019/mtb.tsv', delimiter= '\\t')"
   ]
  },
  {
   "cell_type": "markdown",
   "id": "cbbd1b6d",
   "metadata": {},
   "source": [
    "## 11. SINHA_CRC_2016"
   ]
  },
  {
   "cell_type": "code",
   "execution_count": 82,
   "id": "54c8ebaf",
   "metadata": {},
   "outputs": [],
   "source": [
    "sinha_genera = pd.read_csv('SINHA_CRC_2016/genera.tsv', delimiter= '\\t')\n",
    "sinha_metabol = pd.read_csv('SINHA_CRC_2016/mtb.tsv', delimiter= '\\t')"
   ]
  },
  {
   "cell_type": "markdown",
   "id": "7d6e6c94",
   "metadata": {},
   "source": [
    "## 12. WANDRO_PRETERMS_2018"
   ]
  },
  {
   "cell_type": "code",
   "execution_count": 83,
   "id": "18b0a1cd",
   "metadata": {},
   "outputs": [],
   "source": [
    "wandro_genera = pd.read_csv('WANDRO_PRETERMS_2018/genera.tsv', delimiter= '\\t')\n",
    "wandro_metabol = pd.read_csv('WANDRO_PRETERMS_2018/mtb.tsv', delimiter= '\\t')"
   ]
  },
  {
   "cell_type": "markdown",
   "id": "eac35c55",
   "metadata": {},
   "source": [
    "## 13. WANG_ESRD_2020"
   ]
  },
  {
   "cell_type": "code",
   "execution_count": 84,
   "id": "6ba025be",
   "metadata": {},
   "outputs": [],
   "source": [
    "wang_genera = pd.read_csv('WANG_ESRD_2020/genera.tsv', delimiter= '\\t')\n",
    "wang_metabol = pd.read_csv('WANG_ESRD_2020/mtb.tsv', delimiter= '\\t')"
   ]
  },
  {
   "cell_type": "markdown",
   "id": "7c691e85",
   "metadata": {},
   "source": [
    "## 14. iHMP_IBDMDB_2019"
   ]
  },
  {
   "cell_type": "code",
   "execution_count": 85,
   "id": "85577049",
   "metadata": {},
   "outputs": [],
   "source": [
    "ihmp_genera = pd.read_csv('iHMP_IBDMDB_2019/genera.tsv', delimiter= '\\t')\n",
    "ihmp_metabol = pd.read_csv('iHMP_IBDMDB_2019/mtb.tsv', delimiter= '\\t')"
   ]
  },
  {
   "cell_type": "markdown",
   "id": "c873499b",
   "metadata": {},
   "source": [
    "### Checking"
   ]
  },
  {
   "cell_type": "code",
   "execution_count": 86,
   "id": "1e7bd84a",
   "metadata": {},
   "outputs": [],
   "source": [
    "metagenome = [eraw_genera, yachida_genera, franzosa_genera,\n",
    "             he_genera, jacob_genera, kang_genera,\n",
    "             kim_genera, kostic_genera, mars_genera,\n",
    "             poyet_genera, sinha_genera, wandro_genera,\n",
    "             wang_genera, ihmp_genera]"
   ]
  },
  {
   "cell_type": "code",
   "execution_count": 88,
   "id": "3e607154",
   "metadata": {},
   "outputs": [],
   "source": [
    "metabolome = [eraw_metabol, yachida_metabol, franzosa_metabol,\n",
    "             he_metabol, jacob_metabol, kang_metabol,\n",
    "             kim_metabol, kostic_metabol, mars_metabol,\n",
    "             poyet_metabol, sinha_metabol, wandro_metabol,\n",
    "             wang_metabol, ihmp_metabol] "
   ]
  },
  {
   "cell_type": "code",
   "execution_count": 109,
   "id": "5f46974f",
   "metadata": {},
   "outputs": [],
   "source": [
    "num = len(metabolome)\n",
    "metabolome_matrix = np.zeros((14, 14))\n",
    "metagenome_matrix = np.zeros((14, 14))"
   ]
  },
  {
   "cell_type": "code",
   "execution_count": 119,
   "id": "55b888b7",
   "metadata": {},
   "outputs": [],
   "source": [
    "for i in range(num):\n",
    "    for j in range(num):\n",
    "        metabolome_matrix[i][j] = percentage_common_elements(metabolome[i].columns, metabolome[j].columns)"
   ]
  },
  {
   "cell_type": "code",
   "execution_count": 110,
   "id": "7fd2da93",
   "metadata": {},
   "outputs": [],
   "source": [
    "for i in range(num):\n",
    "    for j in range(num):\n",
    "        metagenome_matrix[i][j] = percentage_common_elements(metagenome[i].columns, metagenome[j].columns)"
   ]
  },
  {
   "cell_type": "code",
   "execution_count": 123,
   "id": "524ba7c9",
   "metadata": {},
   "outputs": [
    {
     "data": {
      "text/plain": [
       "<AxesSubplot: >"
      ]
     },
     "execution_count": 123,
     "metadata": {},
     "output_type": "execute_result"
    },
    {
     "data": {
      "image/png": "[encoded data removed]",
      "text/plain": [
       "<Figure size 640x480 with 2 Axes>"
      ]
     },
     "metadata": {},
     "output_type": "display_data"
    }
   ],
   "source": [
    "sns.heatmap(metabolome_matrix)"
   ]
  },
  {
   "cell_type": "code",
   "execution_count": 124,
   "id": "7ea70c82",
   "metadata": {},
   "outputs": [
    {
     "data": {
      "text/plain": [
       "<AxesSubplot: >"
      ]
     },
     "execution_count": 124,
     "metadata": {},
     "output_type": "execute_result"
    },
    {
     "data": {
      "image/png": "[encoded data removed]",
      "text/plain": [
       "<Figure size 640x480 with 2 Axes>"
      ]
     },
     "metadata": {},
     "output_type": "display_data"
    }
   ],
   "source": [
    "sns.heatmap(metagenome_matrix)"
   ]
  },
  {
   "cell_type": "code",
   "execution_count": 116,
   "id": "236c2629",
   "metadata": {},
   "outputs": [
    {
     "ename": "TypeError",
     "evalue": "type numpy.ndarray doesn't define __round__ method",
     "output_type": "error",
     "traceback": [
      "\u001b[1;31m---------------------------------------------------------------------------\u001b[0m",
      "\u001b[1;31mTypeError\u001b[0m                                 Traceback (most recent call last)",
      "Cell \u001b[1;32mIn[116], line 1\u001b[0m\n\u001b[1;32m----> 1\u001b[0m pd\u001b[38;5;241m.\u001b[39mDataFrame(\u001b[38;5;28;43mround\u001b[39;49m\u001b[43m(\u001b[49m\u001b[43mmetagenome_matrix\u001b[49m\u001b[43m,\u001b[49m\u001b[38;5;241;43m2\u001b[39;49m\u001b[43m)\u001b[49m)\u001b[38;5;241m.\u001b[39mto_csv(\u001b[38;5;124m'\u001b[39m\u001b[38;5;124mMetagenome.csv\u001b[39m\u001b[38;5;124m'\u001b[39m)\n",
      "\u001b[1;31mTypeError\u001b[0m: type numpy.ndarray doesn't define __round__ method"
     ]
    }
   ],
   "source": [
    "pd.DataFrame(metagenome_matrix).to_csv('Metagenome.csv')"
   ]
  },
  {
   "cell_type": "code",
   "execution_count": 122,
   "id": "507cd108",
   "metadata": {},
   "outputs": [],
   "source": [
    "pd.DataFrame(metabolome_matrix).to_csv('Metabolome.csv')"
   ]
  },
  {
   "cell_type": "code",
   "execution_count": null,
   "id": "e7177f3d",
   "metadata": {},
   "outputs": [],
   "source": []
  }
 ],
 "metadata": {
  "kernelspec": {
   "display_name": "Python 3 (ipykernel)",
   "language": "python",
   "name": "python3"
  },
  "language_info": {
   "codemirror_mode": {
    "name": "ipython",
    "version": 3
   },
   "file_extension": ".py",
   "mimetype": "text/x-python",
   "name": "python",
   "nbconvert_exporter": "python",
   "pygments_lexer": "ipython3",
   "version": "3.11.1"
  }
 },
 "nbformat": 4,
 "nbformat_minor": 5
}
